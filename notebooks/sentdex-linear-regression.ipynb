{
 "cells": [
  {
   "cell_type": "code",
   "execution_count": 7,
   "source": [
    "import warnings\n",
    "# warnings.filterwarnings(action='once')\n",
    "warnings.filterwarnings('ignore')\n",
    "\n",
    "import math\n",
    "import os\n",
    "# import Quandl\n",
    "import pathlib\n",
    "import time\n",
    "\n",
    "import numpy as np\n",
    "import pandas as pd\n",
    "import pyarrow.parquet as pq\n",
    "from sklearn import preprocessing, svm\n",
    "from sklearn.linear_model import LinearRegression\n",
    "# deprecated: cross validation is used for splitting up data sets\n",
    "# svm = support vector machine. svm is able to perform regression\n",
    "# from sklearn import preprocessing, cross_validation, svm\n",
    "from sklearn.model_selection import train_test_split\n",
    "\n",
    "from machine_learning_with_python.utils.file_functions import get_dataframe_from_csv\n",
    "\n",
    "from rich import print as rich_print\n",
    "from rich.console import Console\n",
    "import matplotlib.pyplot as plt\n",
    "from matplotlib import style\n",
    "\n",
    "import datetime\n",
    "\n",
    "\n",
    "CONSOLE = Console()\n",
    "\n",
    "# Input data files are available in the \"../input/\" directory.\n",
    "# For example, running this (by clicking run or pressing Shift+Enter) will list the files in the input directory\n",
    "\n",
    "# https://stackoverflow.com/questions/39125532/file-does-not-exist-in-jupyter-notebook\n",
    "# /Users/<USER>/dev/universityofprofessorex/machine-learning-with-python\n",
    "current_folder = globals()['_dh'][0]\n",
    "\n",
    "HERE = os.path.abspath('')\n",
    "\n",
    "_dir = pathlib.Path(HERE).resolve()\n",
    "\n",
    "rich_print(_dir.parent)\n",
    "rich_print(current_folder)\n",
    "\n",
    "parent_dir = _dir.parent\n",
    "\n",
    "# csv_file = f\"{_dir.parent}/data/WIKI_PRICES_212b326a081eacca455e13140d7bb9db.csv\"\n",
    "# parquet_file = (\n",
    "#     f\"{_dir.parent}/data/WIKI_PRICES_212b326a081eacca455e13140d7bb9db.parquet\"\n",
    "# )\n"
   ],
   "outputs": [
    {
     "output_type": "display_data",
     "data": {
      "text/plain": [
       "\u001b[35m/Users/malcolm/dev/universityofprofessorex/\u001b[0m\u001b[95mmachine-learning-with-python\u001b[0m\n"
      ],
      "text/html": [
       "<pre style=\"white-space:pre;overflow-x:auto;line-height:normal;font-family:Menlo,'DejaVu Sans Mono',consolas,'Courier New',monospace\"><span style=\"color: #800080; text-decoration-color: #800080\">/Users/malcolm/dev/universityofprofessorex/</span><span style=\"color: #ff00ff; text-decoration-color: #ff00ff\">machine-learning-with-python</span>\n",
       "</pre>\n"
      ]
     },
     "metadata": {}
    },
    {
     "output_type": "display_data",
     "data": {
      "text/plain": [
       "\u001b[35m/Users/malcolm/dev/universityofprofessorex/\u001b[0m\u001b[95mmachine-learning-with-python\u001b[0m\n"
      ],
      "text/html": [
       "<pre style=\"white-space:pre;overflow-x:auto;line-height:normal;font-family:Menlo,'DejaVu Sans Mono',consolas,'Courier New',monospace\"><span style=\"color: #800080; text-decoration-color: #800080\">/Users/malcolm/dev/universityofprofessorex/</span><span style=\"color: #ff00ff; text-decoration-color: #ff00ff\">machine-learning-with-python</span>\n",
       "</pre>\n"
      ]
     },
     "metadata": {}
    }
   ],
   "metadata": {}
  },
  {
   "cell_type": "code",
   "execution_count": 8,
   "source": [
    "\n",
    "input_dir = f\"{parent_dir}/data/\"\n",
    "\n",
    "CONSOLE.log(os.listdir(input_dir))\n"
   ],
   "outputs": [
    {
     "output_type": "display_data",
     "data": {
      "text/plain": [
       "\u001b[2;36m[23:36:28]\u001b[0m\u001b[2;36m \u001b[0m\u001b[1m[\u001b[0m                                                 \u001b[2m<ipython-input-8-165cf362f97c>\u001b[0m\u001b[2m:3\u001b[0m\n",
       "               \u001b[32m'kaggle'\u001b[0m,                                                                     \n",
       "               \u001b[32m'WIKI_PRICES_212b326a081eacca455e13140d7bb9db\u001b[0m                                 \n",
       "           \u001b[32m.parquet'\u001b[0m,                                                                        \n",
       "               \u001b[32m'.gitkeep'\u001b[0m,                                                                   \n",
       "               \u001b[32m'WIKI_PRICES_212b326a081eacca455e13140d7bb9db\u001b[0m                                 \n",
       "           \u001b[32m.zip'\u001b[0m,                                                                            \n",
       "               \u001b[32m'WIKI_PRICES_212b326a081eacca455e13140d7bb9db\u001b[0m                                 \n",
       "           \u001b[32m.csv'\u001b[0m                                                                             \n",
       "           \u001b[1m]\u001b[0m                                                                                 \n"
      ],
      "text/html": [
       "<pre style=\"white-space:pre;overflow-x:auto;line-height:normal;font-family:Menlo,'DejaVu Sans Mono',consolas,'Courier New',monospace\"><span style=\"color: #7fbfbf; text-decoration-color: #7fbfbf\">[23:36:28] </span><span style=\"font-weight: bold\">[</span>                                                 <span style=\"color: #7f7f7f; text-decoration-color: #7f7f7f\">&lt;ipython-input-8-165cf362f97c&gt;:3</span>\n",
       "               <span style=\"color: #008000; text-decoration-color: #008000\">'kaggle'</span>,                                                                     \n",
       "               <span style=\"color: #008000; text-decoration-color: #008000\">'WIKI_PRICES_212b326a081eacca455e13140d7bb9db</span>                                 \n",
       "           <span style=\"color: #008000; text-decoration-color: #008000\">.parquet'</span>,                                                                        \n",
       "               <span style=\"color: #008000; text-decoration-color: #008000\">'.gitkeep'</span>,                                                                   \n",
       "               <span style=\"color: #008000; text-decoration-color: #008000\">'WIKI_PRICES_212b326a081eacca455e13140d7bb9db</span>                                 \n",
       "           <span style=\"color: #008000; text-decoration-color: #008000\">.zip'</span>,                                                                            \n",
       "               <span style=\"color: #008000; text-decoration-color: #008000\">'WIKI_PRICES_212b326a081eacca455e13140d7bb9db</span>                                 \n",
       "           <span style=\"color: #008000; text-decoration-color: #008000\">.csv'</span>                                                                             \n",
       "           <span style=\"font-weight: bold\">]</span>                                                                                 \n",
       "</pre>\n"
      ]
     },
     "metadata": {}
    }
   ],
   "metadata": {}
  },
  {
   "cell_type": "code",
   "execution_count": 9,
   "source": [
    "csv_file = f\"{parent_dir}/data/WIKI_PRICES_212b326a081eacca455e13140d7bb9db.csv\"\n",
    "\n",
    "csv_file\n"
   ],
   "outputs": [
    {
     "output_type": "execute_result",
     "data": {
      "text/plain": [
       "'/Users/malcolm/dev/universityofprofessorex/machine-learning-with-python/data/WIKI_PRICES_212b326a081eacca455e13140d7bb9db.csv'"
      ]
     },
     "metadata": {},
     "execution_count": 9
    }
   ],
   "metadata": {}
  },
  {
   "cell_type": "code",
   "execution_count": 10,
   "source": [
    "parquet_file = (\n",
    "    f\"{parent_dir}/data/WIKI_PRICES_212b326a081eacca455e13140d7bb9db.parquet\"\n",
    ")\n",
    "\n",
    "parquet_file\n"
   ],
   "outputs": [
    {
     "output_type": "execute_result",
     "data": {
      "text/plain": [
       "'/Users/malcolm/dev/universityofprofessorex/machine-learning-with-python/data/WIKI_PRICES_212b326a081eacca455e13140d7bb9db.parquet'"
      ]
     },
     "metadata": {},
     "execution_count": 10
    }
   ],
   "metadata": {}
  },
  {
   "cell_type": "code",
   "execution_count": 45,
   "source": [
    "# Pandas: Read Parquet\n",
    "t1 = time.time()\n",
    "df = pd.read_parquet(parquet_file, engine=\"pyarrow\")\n",
    "t2 = time.time()\n",
    "delta_t = round((t2 - t1), 3)\n",
    "print(f\"Time it took = {delta_t} seconds\\n\")\n",
    "\n",
    "rich_print(df.head())"
   ],
   "outputs": [
    {
     "output_type": "error",
     "ename": "TypeError",
     "evalue": "read_table() got an unexpected keyword argument 'index_col'",
     "traceback": [
      "\u001b[0;31m---------------------------------------------------------------------------\u001b[0m",
      "\u001b[0;31mTypeError\u001b[0m                                 Traceback (most recent call last)",
      "\u001b[0;32m<ipython-input-45-6b2ed61fc720>\u001b[0m in \u001b[0;36m<module>\u001b[0;34m\u001b[0m\n\u001b[1;32m      1\u001b[0m \u001b[0;31m# Pandas: Read Parquet\u001b[0m\u001b[0;34m\u001b[0m\u001b[0;34m\u001b[0m\u001b[0;34m\u001b[0m\u001b[0m\n\u001b[1;32m      2\u001b[0m \u001b[0mt1\u001b[0m \u001b[0;34m=\u001b[0m \u001b[0mtime\u001b[0m\u001b[0;34m.\u001b[0m\u001b[0mtime\u001b[0m\u001b[0;34m(\u001b[0m\u001b[0;34m)\u001b[0m\u001b[0;34m\u001b[0m\u001b[0;34m\u001b[0m\u001b[0m\n\u001b[0;32m----> 3\u001b[0;31m \u001b[0mdf\u001b[0m \u001b[0;34m=\u001b[0m \u001b[0mpd\u001b[0m\u001b[0;34m.\u001b[0m\u001b[0mread_parquet\u001b[0m\u001b[0;34m(\u001b[0m\u001b[0mparquet_file\u001b[0m\u001b[0;34m,\u001b[0m \u001b[0mindex_col\u001b[0m\u001b[0;34m=\u001b[0m\u001b[0;34m'Date'\u001b[0m\u001b[0;34m,\u001b[0m \u001b[0mparse_dates\u001b[0m\u001b[0;34m=\u001b[0m\u001b[0;32mTrue\u001b[0m\u001b[0;34m,\u001b[0m \u001b[0mengine\u001b[0m\u001b[0;34m=\u001b[0m\u001b[0;34m\"pyarrow\"\u001b[0m\u001b[0;34m)\u001b[0m\u001b[0;34m\u001b[0m\u001b[0;34m\u001b[0m\u001b[0m\n\u001b[0m\u001b[1;32m      4\u001b[0m \u001b[0mt2\u001b[0m \u001b[0;34m=\u001b[0m \u001b[0mtime\u001b[0m\u001b[0;34m.\u001b[0m\u001b[0mtime\u001b[0m\u001b[0;34m(\u001b[0m\u001b[0;34m)\u001b[0m\u001b[0;34m\u001b[0m\u001b[0;34m\u001b[0m\u001b[0m\n\u001b[1;32m      5\u001b[0m \u001b[0mdelta_t\u001b[0m \u001b[0;34m=\u001b[0m \u001b[0mround\u001b[0m\u001b[0;34m(\u001b[0m\u001b[0;34m(\u001b[0m\u001b[0mt2\u001b[0m \u001b[0;34m-\u001b[0m \u001b[0mt1\u001b[0m\u001b[0;34m)\u001b[0m\u001b[0;34m,\u001b[0m \u001b[0;36m3\u001b[0m\u001b[0;34m)\u001b[0m\u001b[0;34m\u001b[0m\u001b[0;34m\u001b[0m\u001b[0m\n",
      "\u001b[0;32m~/.pyenv/versions/machine-learning-with-python3/lib/python3.9/site-packages/pandas/io/parquet.py\u001b[0m in \u001b[0;36mread_parquet\u001b[0;34m(path, engine, columns, use_nullable_dtypes, **kwargs)\u001b[0m\n\u001b[1;32m    457\u001b[0m     \"\"\"\n\u001b[1;32m    458\u001b[0m     \u001b[0mimpl\u001b[0m \u001b[0;34m=\u001b[0m \u001b[0mget_engine\u001b[0m\u001b[0;34m(\u001b[0m\u001b[0mengine\u001b[0m\u001b[0;34m)\u001b[0m\u001b[0;34m\u001b[0m\u001b[0;34m\u001b[0m\u001b[0m\n\u001b[0;32m--> 459\u001b[0;31m     return impl.read(\n\u001b[0m\u001b[1;32m    460\u001b[0m         \u001b[0mpath\u001b[0m\u001b[0;34m,\u001b[0m \u001b[0mcolumns\u001b[0m\u001b[0;34m=\u001b[0m\u001b[0mcolumns\u001b[0m\u001b[0;34m,\u001b[0m \u001b[0muse_nullable_dtypes\u001b[0m\u001b[0;34m=\u001b[0m\u001b[0muse_nullable_dtypes\u001b[0m\u001b[0;34m,\u001b[0m \u001b[0;34m**\u001b[0m\u001b[0mkwargs\u001b[0m\u001b[0;34m\u001b[0m\u001b[0;34m\u001b[0m\u001b[0m\n\u001b[1;32m    461\u001b[0m     )\n",
      "\u001b[0;32m~/.pyenv/versions/machine-learning-with-python3/lib/python3.9/site-packages/pandas/io/parquet.py\u001b[0m in \u001b[0;36mread\u001b[0;34m(self, path, columns, use_nullable_dtypes, storage_options, **kwargs)\u001b[0m\n\u001b[1;32m    219\u001b[0m         )\n\u001b[1;32m    220\u001b[0m         \u001b[0;32mtry\u001b[0m\u001b[0;34m:\u001b[0m\u001b[0;34m\u001b[0m\u001b[0;34m\u001b[0m\u001b[0m\n\u001b[0;32m--> 221\u001b[0;31m             return self.api.parquet.read_table(\n\u001b[0m\u001b[1;32m    222\u001b[0m                 \u001b[0mpath_or_handle\u001b[0m\u001b[0;34m,\u001b[0m \u001b[0mcolumns\u001b[0m\u001b[0;34m=\u001b[0m\u001b[0mcolumns\u001b[0m\u001b[0;34m,\u001b[0m \u001b[0;34m**\u001b[0m\u001b[0mkwargs\u001b[0m\u001b[0;34m\u001b[0m\u001b[0;34m\u001b[0m\u001b[0m\n\u001b[1;32m    223\u001b[0m             ).to_pandas(**to_pandas_kwargs)\n",
      "\u001b[0;31mTypeError\u001b[0m: read_table() got an unexpected keyword argument 'index_col'"
     ]
    }
   ],
   "metadata": {}
  },
  {
   "cell_type": "code",
   "execution_count": 12,
   "source": [
    "# We only need some of these categories for linear regression\n",
    "df = df[\n",
    "    [\n",
    "        \"adj_open\",\n",
    "        \"adj_high\",\n",
    "        \"adj_low\",\n",
    "        \"adj_close\",\n",
    "        \"adj_volume\",\n",
    "    ]\n",
    "]\n",
    "\n",
    "df"
   ],
   "outputs": [
    {
     "output_type": "execute_result",
     "data": {
      "text/plain": [
       "           adj_open   adj_high    adj_low  adj_close  adj_volume\n",
       "0         31.041951  34.112034  27.289627  30.018590  44739900.0\n",
       "1         29.295415  29.336350  27.160002  27.548879  10897100.0\n",
       "2         28.183363  30.018590  27.330562  30.018590   4705200.0\n",
       "3         28.995229  29.766161  27.460188  27.460188   4274400.0\n",
       "4         27.378319  28.613174  27.289627  28.012803   3464400.0\n",
       "...             ...        ...        ...        ...         ...\n",
       "15389309  23.800000  24.600000  23.605800  23.950000    354092.0\n",
       "15389310  23.900000  24.350000  23.300000  23.350000    269607.0\n",
       "15389311  23.550000  24.200000  23.450000  23.550000    301584.0\n",
       "15389312  23.750000  24.800000  23.700000  24.650000    375320.0\n",
       "15389313  24.650000  24.650000  23.350000  23.600000    403884.0\n",
       "\n",
       "[15389314 rows x 5 columns]"
      ],
      "text/html": [
       "<div>\n",
       "<style scoped>\n",
       "    .dataframe tbody tr th:only-of-type {\n",
       "        vertical-align: middle;\n",
       "    }\n",
       "\n",
       "    .dataframe tbody tr th {\n",
       "        vertical-align: top;\n",
       "    }\n",
       "\n",
       "    .dataframe thead th {\n",
       "        text-align: right;\n",
       "    }\n",
       "</style>\n",
       "<table border=\"1\" class=\"dataframe\">\n",
       "  <thead>\n",
       "    <tr style=\"text-align: right;\">\n",
       "      <th></th>\n",
       "      <th>adj_open</th>\n",
       "      <th>adj_high</th>\n",
       "      <th>adj_low</th>\n",
       "      <th>adj_close</th>\n",
       "      <th>adj_volume</th>\n",
       "    </tr>\n",
       "  </thead>\n",
       "  <tbody>\n",
       "    <tr>\n",
       "      <th>0</th>\n",
       "      <td>31.041951</td>\n",
       "      <td>34.112034</td>\n",
       "      <td>27.289627</td>\n",
       "      <td>30.018590</td>\n",
       "      <td>44739900.0</td>\n",
       "    </tr>\n",
       "    <tr>\n",
       "      <th>1</th>\n",
       "      <td>29.295415</td>\n",
       "      <td>29.336350</td>\n",
       "      <td>27.160002</td>\n",
       "      <td>27.548879</td>\n",
       "      <td>10897100.0</td>\n",
       "    </tr>\n",
       "    <tr>\n",
       "      <th>2</th>\n",
       "      <td>28.183363</td>\n",
       "      <td>30.018590</td>\n",
       "      <td>27.330562</td>\n",
       "      <td>30.018590</td>\n",
       "      <td>4705200.0</td>\n",
       "    </tr>\n",
       "    <tr>\n",
       "      <th>3</th>\n",
       "      <td>28.995229</td>\n",
       "      <td>29.766161</td>\n",
       "      <td>27.460188</td>\n",
       "      <td>27.460188</td>\n",
       "      <td>4274400.0</td>\n",
       "    </tr>\n",
       "    <tr>\n",
       "      <th>4</th>\n",
       "      <td>27.378319</td>\n",
       "      <td>28.613174</td>\n",
       "      <td>27.289627</td>\n",
       "      <td>28.012803</td>\n",
       "      <td>3464400.0</td>\n",
       "    </tr>\n",
       "    <tr>\n",
       "      <th>...</th>\n",
       "      <td>...</td>\n",
       "      <td>...</td>\n",
       "      <td>...</td>\n",
       "      <td>...</td>\n",
       "      <td>...</td>\n",
       "    </tr>\n",
       "    <tr>\n",
       "      <th>15389309</th>\n",
       "      <td>23.800000</td>\n",
       "      <td>24.600000</td>\n",
       "      <td>23.605800</td>\n",
       "      <td>23.950000</td>\n",
       "      <td>354092.0</td>\n",
       "    </tr>\n",
       "    <tr>\n",
       "      <th>15389310</th>\n",
       "      <td>23.900000</td>\n",
       "      <td>24.350000</td>\n",
       "      <td>23.300000</td>\n",
       "      <td>23.350000</td>\n",
       "      <td>269607.0</td>\n",
       "    </tr>\n",
       "    <tr>\n",
       "      <th>15389311</th>\n",
       "      <td>23.550000</td>\n",
       "      <td>24.200000</td>\n",
       "      <td>23.450000</td>\n",
       "      <td>23.550000</td>\n",
       "      <td>301584.0</td>\n",
       "    </tr>\n",
       "    <tr>\n",
       "      <th>15389312</th>\n",
       "      <td>23.750000</td>\n",
       "      <td>24.800000</td>\n",
       "      <td>23.700000</td>\n",
       "      <td>24.650000</td>\n",
       "      <td>375320.0</td>\n",
       "    </tr>\n",
       "    <tr>\n",
       "      <th>15389313</th>\n",
       "      <td>24.650000</td>\n",
       "      <td>24.650000</td>\n",
       "      <td>23.350000</td>\n",
       "      <td>23.600000</td>\n",
       "      <td>403884.0</td>\n",
       "    </tr>\n",
       "  </tbody>\n",
       "</table>\n",
       "<p>15389314 rows × 5 columns</p>\n",
       "</div>"
      ]
     },
     "metadata": {},
     "execution_count": 12
    }
   ],
   "metadata": {}
  },
  {
   "cell_type": "code",
   "execution_count": 13,
   "source": [
    "# high minus low column\n",
    "df[\"HL_PCT\"] = (df[\"adj_high\"] - df[\"adj_close\"]) / df[\"adj_close\"] * 100.0\n",
    "\n",
    "df\n"
   ],
   "outputs": [
    {
     "output_type": "execute_result",
     "data": {
      "text/plain": [
       "           adj_open   adj_high    adj_low  adj_close  adj_volume     HL_PCT\n",
       "0         31.041951  34.112034  27.289627  30.018590  44739900.0  13.636364\n",
       "1         29.295415  29.336350  27.160002  27.548879  10897100.0   6.488361\n",
       "2         28.183363  30.018590  27.330562  30.018590   4705200.0   0.000000\n",
       "3         28.995229  29.766161  27.460188  27.460188   4274400.0   8.397516\n",
       "4         27.378319  28.613174  27.289627  28.012803   3464400.0   2.143205\n",
       "...             ...        ...        ...        ...         ...        ...\n",
       "15389309  23.800000  24.600000  23.605800  23.950000    354092.0   2.713987\n",
       "15389310  23.900000  24.350000  23.300000  23.350000    269607.0   4.282655\n",
       "15389311  23.550000  24.200000  23.450000  23.550000    301584.0   2.760085\n",
       "15389312  23.750000  24.800000  23.700000  24.650000    375320.0   0.608519\n",
       "15389313  24.650000  24.650000  23.350000  23.600000    403884.0   4.449153\n",
       "\n",
       "[15389314 rows x 6 columns]"
      ],
      "text/html": [
       "<div>\n",
       "<style scoped>\n",
       "    .dataframe tbody tr th:only-of-type {\n",
       "        vertical-align: middle;\n",
       "    }\n",
       "\n",
       "    .dataframe tbody tr th {\n",
       "        vertical-align: top;\n",
       "    }\n",
       "\n",
       "    .dataframe thead th {\n",
       "        text-align: right;\n",
       "    }\n",
       "</style>\n",
       "<table border=\"1\" class=\"dataframe\">\n",
       "  <thead>\n",
       "    <tr style=\"text-align: right;\">\n",
       "      <th></th>\n",
       "      <th>adj_open</th>\n",
       "      <th>adj_high</th>\n",
       "      <th>adj_low</th>\n",
       "      <th>adj_close</th>\n",
       "      <th>adj_volume</th>\n",
       "      <th>HL_PCT</th>\n",
       "    </tr>\n",
       "  </thead>\n",
       "  <tbody>\n",
       "    <tr>\n",
       "      <th>0</th>\n",
       "      <td>31.041951</td>\n",
       "      <td>34.112034</td>\n",
       "      <td>27.289627</td>\n",
       "      <td>30.018590</td>\n",
       "      <td>44739900.0</td>\n",
       "      <td>13.636364</td>\n",
       "    </tr>\n",
       "    <tr>\n",
       "      <th>1</th>\n",
       "      <td>29.295415</td>\n",
       "      <td>29.336350</td>\n",
       "      <td>27.160002</td>\n",
       "      <td>27.548879</td>\n",
       "      <td>10897100.0</td>\n",
       "      <td>6.488361</td>\n",
       "    </tr>\n",
       "    <tr>\n",
       "      <th>2</th>\n",
       "      <td>28.183363</td>\n",
       "      <td>30.018590</td>\n",
       "      <td>27.330562</td>\n",
       "      <td>30.018590</td>\n",
       "      <td>4705200.0</td>\n",
       "      <td>0.000000</td>\n",
       "    </tr>\n",
       "    <tr>\n",
       "      <th>3</th>\n",
       "      <td>28.995229</td>\n",
       "      <td>29.766161</td>\n",
       "      <td>27.460188</td>\n",
       "      <td>27.460188</td>\n",
       "      <td>4274400.0</td>\n",
       "      <td>8.397516</td>\n",
       "    </tr>\n",
       "    <tr>\n",
       "      <th>4</th>\n",
       "      <td>27.378319</td>\n",
       "      <td>28.613174</td>\n",
       "      <td>27.289627</td>\n",
       "      <td>28.012803</td>\n",
       "      <td>3464400.0</td>\n",
       "      <td>2.143205</td>\n",
       "    </tr>\n",
       "    <tr>\n",
       "      <th>...</th>\n",
       "      <td>...</td>\n",
       "      <td>...</td>\n",
       "      <td>...</td>\n",
       "      <td>...</td>\n",
       "      <td>...</td>\n",
       "      <td>...</td>\n",
       "    </tr>\n",
       "    <tr>\n",
       "      <th>15389309</th>\n",
       "      <td>23.800000</td>\n",
       "      <td>24.600000</td>\n",
       "      <td>23.605800</td>\n",
       "      <td>23.950000</td>\n",
       "      <td>354092.0</td>\n",
       "      <td>2.713987</td>\n",
       "    </tr>\n",
       "    <tr>\n",
       "      <th>15389310</th>\n",
       "      <td>23.900000</td>\n",
       "      <td>24.350000</td>\n",
       "      <td>23.300000</td>\n",
       "      <td>23.350000</td>\n",
       "      <td>269607.0</td>\n",
       "      <td>4.282655</td>\n",
       "    </tr>\n",
       "    <tr>\n",
       "      <th>15389311</th>\n",
       "      <td>23.550000</td>\n",
       "      <td>24.200000</td>\n",
       "      <td>23.450000</td>\n",
       "      <td>23.550000</td>\n",
       "      <td>301584.0</td>\n",
       "      <td>2.760085</td>\n",
       "    </tr>\n",
       "    <tr>\n",
       "      <th>15389312</th>\n",
       "      <td>23.750000</td>\n",
       "      <td>24.800000</td>\n",
       "      <td>23.700000</td>\n",
       "      <td>24.650000</td>\n",
       "      <td>375320.0</td>\n",
       "      <td>0.608519</td>\n",
       "    </tr>\n",
       "    <tr>\n",
       "      <th>15389313</th>\n",
       "      <td>24.650000</td>\n",
       "      <td>24.650000</td>\n",
       "      <td>23.350000</td>\n",
       "      <td>23.600000</td>\n",
       "      <td>403884.0</td>\n",
       "      <td>4.449153</td>\n",
       "    </tr>\n",
       "  </tbody>\n",
       "</table>\n",
       "<p>15389314 rows × 6 columns</p>\n",
       "</div>"
      ]
     },
     "metadata": {},
     "execution_count": 13
    }
   ],
   "metadata": {}
  },
  {
   "cell_type": "code",
   "execution_count": 14,
   "source": [
    "# daily percent change\n",
    "df[\"PCT_change\"] = (df[\"adj_close\"] - df[\"adj_open\"]) / df[\"adj_open\"] * 100.0\n",
    "\n",
    "df"
   ],
   "outputs": [
    {
     "output_type": "execute_result",
     "data": {
      "text/plain": [
       "           adj_open   adj_high    adj_low  adj_close  adj_volume     HL_PCT  \\\n",
       "0         31.041951  34.112034  27.289627  30.018590  44739900.0  13.636364   \n",
       "1         29.295415  29.336350  27.160002  27.548879  10897100.0   6.488361   \n",
       "2         28.183363  30.018590  27.330562  30.018590   4705200.0   0.000000   \n",
       "3         28.995229  29.766161  27.460188  27.460188   4274400.0   8.397516   \n",
       "4         27.378319  28.613174  27.289627  28.012803   3464400.0   2.143205   \n",
       "...             ...        ...        ...        ...         ...        ...   \n",
       "15389309  23.800000  24.600000  23.605800  23.950000    354092.0   2.713987   \n",
       "15389310  23.900000  24.350000  23.300000  23.350000    269607.0   4.282655   \n",
       "15389311  23.550000  24.200000  23.450000  23.550000    301584.0   2.760085   \n",
       "15389312  23.750000  24.800000  23.700000  24.650000    375320.0   0.608519   \n",
       "15389313  24.650000  24.650000  23.350000  23.600000    403884.0   4.449153   \n",
       "\n",
       "          PCT_change  \n",
       "0          -3.296703  \n",
       "1          -5.961807  \n",
       "2           6.511740  \n",
       "3          -5.294118  \n",
       "4           2.317468  \n",
       "...              ...  \n",
       "15389309    0.630252  \n",
       "15389310   -2.301255  \n",
       "15389311    0.000000  \n",
       "15389312    3.789474  \n",
       "15389313   -4.259635  \n",
       "\n",
       "[15389314 rows x 7 columns]"
      ],
      "text/html": [
       "<div>\n",
       "<style scoped>\n",
       "    .dataframe tbody tr th:only-of-type {\n",
       "        vertical-align: middle;\n",
       "    }\n",
       "\n",
       "    .dataframe tbody tr th {\n",
       "        vertical-align: top;\n",
       "    }\n",
       "\n",
       "    .dataframe thead th {\n",
       "        text-align: right;\n",
       "    }\n",
       "</style>\n",
       "<table border=\"1\" class=\"dataframe\">\n",
       "  <thead>\n",
       "    <tr style=\"text-align: right;\">\n",
       "      <th></th>\n",
       "      <th>adj_open</th>\n",
       "      <th>adj_high</th>\n",
       "      <th>adj_low</th>\n",
       "      <th>adj_close</th>\n",
       "      <th>adj_volume</th>\n",
       "      <th>HL_PCT</th>\n",
       "      <th>PCT_change</th>\n",
       "    </tr>\n",
       "  </thead>\n",
       "  <tbody>\n",
       "    <tr>\n",
       "      <th>0</th>\n",
       "      <td>31.041951</td>\n",
       "      <td>34.112034</td>\n",
       "      <td>27.289627</td>\n",
       "      <td>30.018590</td>\n",
       "      <td>44739900.0</td>\n",
       "      <td>13.636364</td>\n",
       "      <td>-3.296703</td>\n",
       "    </tr>\n",
       "    <tr>\n",
       "      <th>1</th>\n",
       "      <td>29.295415</td>\n",
       "      <td>29.336350</td>\n",
       "      <td>27.160002</td>\n",
       "      <td>27.548879</td>\n",
       "      <td>10897100.0</td>\n",
       "      <td>6.488361</td>\n",
       "      <td>-5.961807</td>\n",
       "    </tr>\n",
       "    <tr>\n",
       "      <th>2</th>\n",
       "      <td>28.183363</td>\n",
       "      <td>30.018590</td>\n",
       "      <td>27.330562</td>\n",
       "      <td>30.018590</td>\n",
       "      <td>4705200.0</td>\n",
       "      <td>0.000000</td>\n",
       "      <td>6.511740</td>\n",
       "    </tr>\n",
       "    <tr>\n",
       "      <th>3</th>\n",
       "      <td>28.995229</td>\n",
       "      <td>29.766161</td>\n",
       "      <td>27.460188</td>\n",
       "      <td>27.460188</td>\n",
       "      <td>4274400.0</td>\n",
       "      <td>8.397516</td>\n",
       "      <td>-5.294118</td>\n",
       "    </tr>\n",
       "    <tr>\n",
       "      <th>4</th>\n",
       "      <td>27.378319</td>\n",
       "      <td>28.613174</td>\n",
       "      <td>27.289627</td>\n",
       "      <td>28.012803</td>\n",
       "      <td>3464400.0</td>\n",
       "      <td>2.143205</td>\n",
       "      <td>2.317468</td>\n",
       "    </tr>\n",
       "    <tr>\n",
       "      <th>...</th>\n",
       "      <td>...</td>\n",
       "      <td>...</td>\n",
       "      <td>...</td>\n",
       "      <td>...</td>\n",
       "      <td>...</td>\n",
       "      <td>...</td>\n",
       "      <td>...</td>\n",
       "    </tr>\n",
       "    <tr>\n",
       "      <th>15389309</th>\n",
       "      <td>23.800000</td>\n",
       "      <td>24.600000</td>\n",
       "      <td>23.605800</td>\n",
       "      <td>23.950000</td>\n",
       "      <td>354092.0</td>\n",
       "      <td>2.713987</td>\n",
       "      <td>0.630252</td>\n",
       "    </tr>\n",
       "    <tr>\n",
       "      <th>15389310</th>\n",
       "      <td>23.900000</td>\n",
       "      <td>24.350000</td>\n",
       "      <td>23.300000</td>\n",
       "      <td>23.350000</td>\n",
       "      <td>269607.0</td>\n",
       "      <td>4.282655</td>\n",
       "      <td>-2.301255</td>\n",
       "    </tr>\n",
       "    <tr>\n",
       "      <th>15389311</th>\n",
       "      <td>23.550000</td>\n",
       "      <td>24.200000</td>\n",
       "      <td>23.450000</td>\n",
       "      <td>23.550000</td>\n",
       "      <td>301584.0</td>\n",
       "      <td>2.760085</td>\n",
       "      <td>0.000000</td>\n",
       "    </tr>\n",
       "    <tr>\n",
       "      <th>15389312</th>\n",
       "      <td>23.750000</td>\n",
       "      <td>24.800000</td>\n",
       "      <td>23.700000</td>\n",
       "      <td>24.650000</td>\n",
       "      <td>375320.0</td>\n",
       "      <td>0.608519</td>\n",
       "      <td>3.789474</td>\n",
       "    </tr>\n",
       "    <tr>\n",
       "      <th>15389313</th>\n",
       "      <td>24.650000</td>\n",
       "      <td>24.650000</td>\n",
       "      <td>23.350000</td>\n",
       "      <td>23.600000</td>\n",
       "      <td>403884.0</td>\n",
       "      <td>4.449153</td>\n",
       "      <td>-4.259635</td>\n",
       "    </tr>\n",
       "  </tbody>\n",
       "</table>\n",
       "<p>15389314 rows × 7 columns</p>\n",
       "</div>"
      ]
     },
     "metadata": {},
     "execution_count": 14
    }
   ],
   "metadata": {}
  },
  {
   "cell_type": "code",
   "execution_count": 15,
   "source": [
    "# We define a new datafram\n",
    "\n",
    "df = df[[\"adj_close\", \"HL_PCT\", \"PCT_change\", \"adj_volume\"]]\n",
    "\n",
    "df"
   ],
   "outputs": [
    {
     "output_type": "execute_result",
     "data": {
      "text/plain": [
       "          adj_close     HL_PCT  PCT_change  adj_volume\n",
       "0         30.018590  13.636364   -3.296703  44739900.0\n",
       "1         27.548879   6.488361   -5.961807  10897100.0\n",
       "2         30.018590   0.000000    6.511740   4705200.0\n",
       "3         27.460188   8.397516   -5.294118   4274400.0\n",
       "4         28.012803   2.143205    2.317468   3464400.0\n",
       "...             ...        ...         ...         ...\n",
       "15389309  23.950000   2.713987    0.630252    354092.0\n",
       "15389310  23.350000   4.282655   -2.301255    269607.0\n",
       "15389311  23.550000   2.760085    0.000000    301584.0\n",
       "15389312  24.650000   0.608519    3.789474    375320.0\n",
       "15389313  23.600000   4.449153   -4.259635    403884.0\n",
       "\n",
       "[15389314 rows x 4 columns]"
      ],
      "text/html": [
       "<div>\n",
       "<style scoped>\n",
       "    .dataframe tbody tr th:only-of-type {\n",
       "        vertical-align: middle;\n",
       "    }\n",
       "\n",
       "    .dataframe tbody tr th {\n",
       "        vertical-align: top;\n",
       "    }\n",
       "\n",
       "    .dataframe thead th {\n",
       "        text-align: right;\n",
       "    }\n",
       "</style>\n",
       "<table border=\"1\" class=\"dataframe\">\n",
       "  <thead>\n",
       "    <tr style=\"text-align: right;\">\n",
       "      <th></th>\n",
       "      <th>adj_close</th>\n",
       "      <th>HL_PCT</th>\n",
       "      <th>PCT_change</th>\n",
       "      <th>adj_volume</th>\n",
       "    </tr>\n",
       "  </thead>\n",
       "  <tbody>\n",
       "    <tr>\n",
       "      <th>0</th>\n",
       "      <td>30.018590</td>\n",
       "      <td>13.636364</td>\n",
       "      <td>-3.296703</td>\n",
       "      <td>44739900.0</td>\n",
       "    </tr>\n",
       "    <tr>\n",
       "      <th>1</th>\n",
       "      <td>27.548879</td>\n",
       "      <td>6.488361</td>\n",
       "      <td>-5.961807</td>\n",
       "      <td>10897100.0</td>\n",
       "    </tr>\n",
       "    <tr>\n",
       "      <th>2</th>\n",
       "      <td>30.018590</td>\n",
       "      <td>0.000000</td>\n",
       "      <td>6.511740</td>\n",
       "      <td>4705200.0</td>\n",
       "    </tr>\n",
       "    <tr>\n",
       "      <th>3</th>\n",
       "      <td>27.460188</td>\n",
       "      <td>8.397516</td>\n",
       "      <td>-5.294118</td>\n",
       "      <td>4274400.0</td>\n",
       "    </tr>\n",
       "    <tr>\n",
       "      <th>4</th>\n",
       "      <td>28.012803</td>\n",
       "      <td>2.143205</td>\n",
       "      <td>2.317468</td>\n",
       "      <td>3464400.0</td>\n",
       "    </tr>\n",
       "    <tr>\n",
       "      <th>...</th>\n",
       "      <td>...</td>\n",
       "      <td>...</td>\n",
       "      <td>...</td>\n",
       "      <td>...</td>\n",
       "    </tr>\n",
       "    <tr>\n",
       "      <th>15389309</th>\n",
       "      <td>23.950000</td>\n",
       "      <td>2.713987</td>\n",
       "      <td>0.630252</td>\n",
       "      <td>354092.0</td>\n",
       "    </tr>\n",
       "    <tr>\n",
       "      <th>15389310</th>\n",
       "      <td>23.350000</td>\n",
       "      <td>4.282655</td>\n",
       "      <td>-2.301255</td>\n",
       "      <td>269607.0</td>\n",
       "    </tr>\n",
       "    <tr>\n",
       "      <th>15389311</th>\n",
       "      <td>23.550000</td>\n",
       "      <td>2.760085</td>\n",
       "      <td>0.000000</td>\n",
       "      <td>301584.0</td>\n",
       "    </tr>\n",
       "    <tr>\n",
       "      <th>15389312</th>\n",
       "      <td>24.650000</td>\n",
       "      <td>0.608519</td>\n",
       "      <td>3.789474</td>\n",
       "      <td>375320.0</td>\n",
       "    </tr>\n",
       "    <tr>\n",
       "      <th>15389313</th>\n",
       "      <td>23.600000</td>\n",
       "      <td>4.449153</td>\n",
       "      <td>-4.259635</td>\n",
       "      <td>403884.0</td>\n",
       "    </tr>\n",
       "  </tbody>\n",
       "</table>\n",
       "<p>15389314 rows × 4 columns</p>\n",
       "</div>"
      ]
     },
     "metadata": {},
     "execution_count": 15
    }
   ],
   "metadata": {}
  },
  {
   "cell_type": "code",
   "execution_count": 16,
   "source": [
    "forecast_col = \"adj_close\"\n"
   ],
   "outputs": [],
   "metadata": {}
  },
  {
   "cell_type": "code",
   "execution_count": 17,
   "source": [
    "# fill columns with NaN, but replace it with a real value. better than getting rid of data\n",
    "df.fillna(-99999, inplace=True)\n",
    "\n",
    "df"
   ],
   "outputs": [
    {
     "output_type": "execute_result",
     "data": {
      "text/plain": [
       "          adj_close     HL_PCT  PCT_change  adj_volume\n",
       "0         30.018590  13.636364   -3.296703  44739900.0\n",
       "1         27.548879   6.488361   -5.961807  10897100.0\n",
       "2         30.018590   0.000000    6.511740   4705200.0\n",
       "3         27.460188   8.397516   -5.294118   4274400.0\n",
       "4         28.012803   2.143205    2.317468   3464400.0\n",
       "...             ...        ...         ...         ...\n",
       "15389309  23.950000   2.713987    0.630252    354092.0\n",
       "15389310  23.350000   4.282655   -2.301255    269607.0\n",
       "15389311  23.550000   2.760085    0.000000    301584.0\n",
       "15389312  24.650000   0.608519    3.789474    375320.0\n",
       "15389313  23.600000   4.449153   -4.259635    403884.0\n",
       "\n",
       "[15389314 rows x 4 columns]"
      ],
      "text/html": [
       "<div>\n",
       "<style scoped>\n",
       "    .dataframe tbody tr th:only-of-type {\n",
       "        vertical-align: middle;\n",
       "    }\n",
       "\n",
       "    .dataframe tbody tr th {\n",
       "        vertical-align: top;\n",
       "    }\n",
       "\n",
       "    .dataframe thead th {\n",
       "        text-align: right;\n",
       "    }\n",
       "</style>\n",
       "<table border=\"1\" class=\"dataframe\">\n",
       "  <thead>\n",
       "    <tr style=\"text-align: right;\">\n",
       "      <th></th>\n",
       "      <th>adj_close</th>\n",
       "      <th>HL_PCT</th>\n",
       "      <th>PCT_change</th>\n",
       "      <th>adj_volume</th>\n",
       "    </tr>\n",
       "  </thead>\n",
       "  <tbody>\n",
       "    <tr>\n",
       "      <th>0</th>\n",
       "      <td>30.018590</td>\n",
       "      <td>13.636364</td>\n",
       "      <td>-3.296703</td>\n",
       "      <td>44739900.0</td>\n",
       "    </tr>\n",
       "    <tr>\n",
       "      <th>1</th>\n",
       "      <td>27.548879</td>\n",
       "      <td>6.488361</td>\n",
       "      <td>-5.961807</td>\n",
       "      <td>10897100.0</td>\n",
       "    </tr>\n",
       "    <tr>\n",
       "      <th>2</th>\n",
       "      <td>30.018590</td>\n",
       "      <td>0.000000</td>\n",
       "      <td>6.511740</td>\n",
       "      <td>4705200.0</td>\n",
       "    </tr>\n",
       "    <tr>\n",
       "      <th>3</th>\n",
       "      <td>27.460188</td>\n",
       "      <td>8.397516</td>\n",
       "      <td>-5.294118</td>\n",
       "      <td>4274400.0</td>\n",
       "    </tr>\n",
       "    <tr>\n",
       "      <th>4</th>\n",
       "      <td>28.012803</td>\n",
       "      <td>2.143205</td>\n",
       "      <td>2.317468</td>\n",
       "      <td>3464400.0</td>\n",
       "    </tr>\n",
       "    <tr>\n",
       "      <th>...</th>\n",
       "      <td>...</td>\n",
       "      <td>...</td>\n",
       "      <td>...</td>\n",
       "      <td>...</td>\n",
       "    </tr>\n",
       "    <tr>\n",
       "      <th>15389309</th>\n",
       "      <td>23.950000</td>\n",
       "      <td>2.713987</td>\n",
       "      <td>0.630252</td>\n",
       "      <td>354092.0</td>\n",
       "    </tr>\n",
       "    <tr>\n",
       "      <th>15389310</th>\n",
       "      <td>23.350000</td>\n",
       "      <td>4.282655</td>\n",
       "      <td>-2.301255</td>\n",
       "      <td>269607.0</td>\n",
       "    </tr>\n",
       "    <tr>\n",
       "      <th>15389311</th>\n",
       "      <td>23.550000</td>\n",
       "      <td>2.760085</td>\n",
       "      <td>0.000000</td>\n",
       "      <td>301584.0</td>\n",
       "    </tr>\n",
       "    <tr>\n",
       "      <th>15389312</th>\n",
       "      <td>24.650000</td>\n",
       "      <td>0.608519</td>\n",
       "      <td>3.789474</td>\n",
       "      <td>375320.0</td>\n",
       "    </tr>\n",
       "    <tr>\n",
       "      <th>15389313</th>\n",
       "      <td>23.600000</td>\n",
       "      <td>4.449153</td>\n",
       "      <td>-4.259635</td>\n",
       "      <td>403884.0</td>\n",
       "    </tr>\n",
       "  </tbody>\n",
       "</table>\n",
       "<p>15389314 rows × 4 columns</p>\n",
       "</div>"
      ]
     },
     "metadata": {},
     "execution_count": 17
    }
   ],
   "metadata": {}
  },
  {
   "cell_type": "code",
   "execution_count": 19,
   "source": [
    "# round everything up to the nearest show number. We are trying to perdict 10% of the dataframe ( that's what the 0.1 is )\n",
    "forecast_out = int(math.ceil(0.1 * len(df)))\n",
    "print(forecast_out)\n"
   ],
   "outputs": [
    {
     "output_type": "stream",
     "name": "stdout",
     "text": [
      "1538932\n"
     ]
    }
   ],
   "metadata": {}
  },
  {
   "cell_type": "code",
   "execution_count": 20,
   "source": [
    "forecast_out\n"
   ],
   "outputs": [
    {
     "output_type": "execute_result",
     "data": {
      "text/plain": [
       "1538932"
      ]
     },
     "metadata": {},
     "execution_count": 20
    }
   ],
   "metadata": {}
  },
  {
   "cell_type": "code",
   "execution_count": 21,
   "source": [
    "# classifier ( the shift is forcasting the columns out negatively)\n",
    "df[\"label\"] = df[forecast_col].shift(-forecast_out)\n",
    "\n",
    "df"
   ],
   "outputs": [
    {
     "output_type": "execute_result",
     "data": {
      "text/plain": [
       "          adj_close     HL_PCT  PCT_change  adj_volume      label\n",
       "0         30.018590  13.636364   -3.296703  44739900.0  27.130393\n",
       "1         27.548879   6.488361   -5.961807  10897100.0  27.400187\n",
       "2         30.018590   0.000000    6.511740   4705200.0  26.956626\n",
       "3         27.460188   8.397516   -5.294118   4274400.0  23.380701\n",
       "4         28.012803   2.143205    2.317468   3464400.0  22.553025\n",
       "...             ...        ...         ...         ...        ...\n",
       "15389309  23.950000   2.713987    0.630252    354092.0        NaN\n",
       "15389310  23.350000   4.282655   -2.301255    269607.0        NaN\n",
       "15389311  23.550000   2.760085    0.000000    301584.0        NaN\n",
       "15389312  24.650000   0.608519    3.789474    375320.0        NaN\n",
       "15389313  23.600000   4.449153   -4.259635    403884.0        NaN\n",
       "\n",
       "[15389314 rows x 5 columns]"
      ],
      "text/html": [
       "<div>\n",
       "<style scoped>\n",
       "    .dataframe tbody tr th:only-of-type {\n",
       "        vertical-align: middle;\n",
       "    }\n",
       "\n",
       "    .dataframe tbody tr th {\n",
       "        vertical-align: top;\n",
       "    }\n",
       "\n",
       "    .dataframe thead th {\n",
       "        text-align: right;\n",
       "    }\n",
       "</style>\n",
       "<table border=\"1\" class=\"dataframe\">\n",
       "  <thead>\n",
       "    <tr style=\"text-align: right;\">\n",
       "      <th></th>\n",
       "      <th>adj_close</th>\n",
       "      <th>HL_PCT</th>\n",
       "      <th>PCT_change</th>\n",
       "      <th>adj_volume</th>\n",
       "      <th>label</th>\n",
       "    </tr>\n",
       "  </thead>\n",
       "  <tbody>\n",
       "    <tr>\n",
       "      <th>0</th>\n",
       "      <td>30.018590</td>\n",
       "      <td>13.636364</td>\n",
       "      <td>-3.296703</td>\n",
       "      <td>44739900.0</td>\n",
       "      <td>27.130393</td>\n",
       "    </tr>\n",
       "    <tr>\n",
       "      <th>1</th>\n",
       "      <td>27.548879</td>\n",
       "      <td>6.488361</td>\n",
       "      <td>-5.961807</td>\n",
       "      <td>10897100.0</td>\n",
       "      <td>27.400187</td>\n",
       "    </tr>\n",
       "    <tr>\n",
       "      <th>2</th>\n",
       "      <td>30.018590</td>\n",
       "      <td>0.000000</td>\n",
       "      <td>6.511740</td>\n",
       "      <td>4705200.0</td>\n",
       "      <td>26.956626</td>\n",
       "    </tr>\n",
       "    <tr>\n",
       "      <th>3</th>\n",
       "      <td>27.460188</td>\n",
       "      <td>8.397516</td>\n",
       "      <td>-5.294118</td>\n",
       "      <td>4274400.0</td>\n",
       "      <td>23.380701</td>\n",
       "    </tr>\n",
       "    <tr>\n",
       "      <th>4</th>\n",
       "      <td>28.012803</td>\n",
       "      <td>2.143205</td>\n",
       "      <td>2.317468</td>\n",
       "      <td>3464400.0</td>\n",
       "      <td>22.553025</td>\n",
       "    </tr>\n",
       "    <tr>\n",
       "      <th>...</th>\n",
       "      <td>...</td>\n",
       "      <td>...</td>\n",
       "      <td>...</td>\n",
       "      <td>...</td>\n",
       "      <td>...</td>\n",
       "    </tr>\n",
       "    <tr>\n",
       "      <th>15389309</th>\n",
       "      <td>23.950000</td>\n",
       "      <td>2.713987</td>\n",
       "      <td>0.630252</td>\n",
       "      <td>354092.0</td>\n",
       "      <td>NaN</td>\n",
       "    </tr>\n",
       "    <tr>\n",
       "      <th>15389310</th>\n",
       "      <td>23.350000</td>\n",
       "      <td>4.282655</td>\n",
       "      <td>-2.301255</td>\n",
       "      <td>269607.0</td>\n",
       "      <td>NaN</td>\n",
       "    </tr>\n",
       "    <tr>\n",
       "      <th>15389311</th>\n",
       "      <td>23.550000</td>\n",
       "      <td>2.760085</td>\n",
       "      <td>0.000000</td>\n",
       "      <td>301584.0</td>\n",
       "      <td>NaN</td>\n",
       "    </tr>\n",
       "    <tr>\n",
       "      <th>15389312</th>\n",
       "      <td>24.650000</td>\n",
       "      <td>0.608519</td>\n",
       "      <td>3.789474</td>\n",
       "      <td>375320.0</td>\n",
       "      <td>NaN</td>\n",
       "    </tr>\n",
       "    <tr>\n",
       "      <th>15389313</th>\n",
       "      <td>23.600000</td>\n",
       "      <td>4.449153</td>\n",
       "      <td>-4.259635</td>\n",
       "      <td>403884.0</td>\n",
       "      <td>NaN</td>\n",
       "    </tr>\n",
       "  </tbody>\n",
       "</table>\n",
       "<p>15389314 rows × 5 columns</p>\n",
       "</div>"
      ]
     },
     "metadata": {},
     "execution_count": 21
    }
   ],
   "metadata": {}
  },
  {
   "cell_type": "code",
   "execution_count": 22,
   "source": [
    "# features = capital X\n",
    "X = np.array(df.drop([\"label\"], 1))  # get everything except for label\n",
    "\n",
    "X"
   ],
   "outputs": [
    {
     "output_type": "execute_result",
     "data": {
      "text/plain": [
       "array([[ 3.00185902e+01,  1.36363636e+01, -3.29670330e+00,\n",
       "         4.47399000e+07],\n",
       "       [ 2.75488789e+01,  6.48836057e+00, -5.96180717e+00,\n",
       "         1.08971000e+07],\n",
       "       [ 3.00185902e+01,  0.00000000e+00,  6.51174050e+00,\n",
       "         4.70520000e+06],\n",
       "       ...,\n",
       "       [ 2.35500000e+01,  2.76008493e+00,  0.00000000e+00,\n",
       "         3.01584000e+05],\n",
       "       [ 2.46500000e+01,  6.08519270e-01,  3.78947368e+00,\n",
       "         3.75320000e+05],\n",
       "       [ 2.36000000e+01,  4.44915254e+00, -4.25963489e+00,\n",
       "         4.03884000e+05]])"
      ]
     },
     "metadata": {},
     "execution_count": 22
    }
   ],
   "metadata": {}
  },
  {
   "cell_type": "code",
   "execution_count": 23,
   "source": [
    "X = X[:-forecast_out]  # the point of where we were able to forecast the out plus\n",
    "\n",
    "X"
   ],
   "outputs": [
    {
     "output_type": "execute_result",
     "data": {
      "text/plain": [
       "array([[ 3.00185902e+01,  1.36363636e+01, -3.29670330e+00,\n",
       "         4.47399000e+07],\n",
       "       [ 2.75488789e+01,  6.48836057e+00, -5.96180717e+00,\n",
       "         1.08971000e+07],\n",
       "       [ 3.00185902e+01,  0.00000000e+00,  6.51174050e+00,\n",
       "         4.70520000e+06],\n",
       "       ...,\n",
       "       [ 1.49750000e+01,  2.00333890e+00,  1.52542373e+00,\n",
       "         8.73200000e+05],\n",
       "       [ 1.47300000e+01,  2.64765784e+00, -1.43860823e+00,\n",
       "         4.88400000e+05],\n",
       "       [ 1.46050000e+01,  2.63608353e+00, -1.51719488e+00,\n",
       "         4.27000000e+05]])"
      ]
     },
     "metadata": {},
     "execution_count": 23
    }
   ],
   "metadata": {}
  },
  {
   "cell_type": "code",
   "execution_count": 24,
   "source": [
    "X_lately = X[-forecast_out:]  # this is the stuff we are going to predict against\n",
    "\n",
    "\n",
    "X_lately\n"
   ],
   "outputs": [
    {
     "output_type": "execute_result",
     "data": {
      "text/plain": [
       "array([[ 1.88700000e+01,  4.50450450e-01,  1.06100796e-01,\n",
       "         2.97390000e+04],\n",
       "       [ 1.82400000e+01,  4.16666667e+00, -4.00000000e+00,\n",
       "         4.38880000e+04],\n",
       "       [ 1.87300000e+01,  1.60170849e-01,  2.74273176e+00,\n",
       "         2.82520000e+04],\n",
       "       ...,\n",
       "       [ 1.49750000e+01,  2.00333890e+00,  1.52542373e+00,\n",
       "         8.73200000e+05],\n",
       "       [ 1.47300000e+01,  2.64765784e+00, -1.43860823e+00,\n",
       "         4.88400000e+05],\n",
       "       [ 1.46050000e+01,  2.63608353e+00, -1.51719488e+00,\n",
       "         4.27000000e+05]])"
      ]
     },
     "metadata": {},
     "execution_count": 24
    }
   ],
   "metadata": {}
  },
  {
   "cell_type": "code",
   "execution_count": 26,
   "source": [
    "# Now we are going to scale x\n",
    "# in order to properly scale it, you need to scale them alongside all your other values (when training)\n",
    "# SOURCE: https://scikit-learn.org/stable/modules/generated/sklearn.preprocessing.scale.html\n",
    "# SOURCE: https://scikit-learn.org/stable/modules/preprocessing.html#preprocessing-scaler\n",
    "# Standardize a dataset along any axis.\n",
    "# Center to the mean and component wise scale to unit variance.\n",
    "# Read more in the User Guide.\n",
    "X = preprocessing.scale(X)\n",
    "\n",
    "X\n"
   ],
   "outputs": [
    {
     "output_type": "execute_result",
     "data": {
      "text/plain": [
       "array([[-1.99443063e-02,  2.96335272e-02,  8.37553117e-04,\n",
       "         6.42933796e+00],\n",
       "       [-2.06040974e-02,  1.22269166e-02, -3.43211417e-03,\n",
       "         1.40656005e+00],\n",
       "       [-1.99443063e-02, -3.57335173e-03,  1.65513090e-02,\n",
       "         4.87589446e-01],\n",
       "       ...,\n",
       "       [-2.39632485e-02,  1.30512129e-03,  8.56290979e-03,\n",
       "        -8.11366917e-02],\n",
       "       [-2.40287011e-02,  2.87414818e-03,  3.81434055e-03,\n",
       "        -1.38246769e-01],\n",
       "       [-2.40620952e-02,  2.84596276e-03,  3.68843970e-03,\n",
       "        -1.47359448e-01]])"
      ]
     },
     "metadata": {},
     "execution_count": 26
    }
   ],
   "metadata": {}
  },
  {
   "cell_type": "code",
   "execution_count": 27,
   "source": [
    "df.dropna(inplace=True)  # Remove missing values.\n",
    "# labels = lowercase y\n",
    "\n",
    "df"
   ],
   "outputs": [
    {
     "output_type": "execute_result",
     "data": {
      "text/plain": [
       "          adj_close     HL_PCT  PCT_change  adj_volume      label\n",
       "0         30.018590  13.636364   -3.296703  44739900.0  27.130393\n",
       "1         27.548879   6.488361   -5.961807  10897100.0  27.400187\n",
       "2         30.018590   0.000000    6.511740   4705200.0  26.956626\n",
       "3         27.460188   8.397516   -5.294118   4274400.0  23.380701\n",
       "4         28.012803   2.143205    2.317468   3464400.0  22.553025\n",
       "...             ...        ...         ...         ...        ...\n",
       "13850377  14.640000   0.717213    0.273973    456800.0  23.950000\n",
       "13850378  14.750000   0.000000    0.067843    771200.0  23.350000\n",
       "13850379  14.975000   2.003339    1.525424    873200.0  23.550000\n",
       "13850380  14.730000   2.647658   -1.438608    488400.0  24.650000\n",
       "13850381  14.605000   2.636084   -1.517195    427000.0  23.600000\n",
       "\n",
       "[13850382 rows x 5 columns]"
      ],
      "text/html": [
       "<div>\n",
       "<style scoped>\n",
       "    .dataframe tbody tr th:only-of-type {\n",
       "        vertical-align: middle;\n",
       "    }\n",
       "\n",
       "    .dataframe tbody tr th {\n",
       "        vertical-align: top;\n",
       "    }\n",
       "\n",
       "    .dataframe thead th {\n",
       "        text-align: right;\n",
       "    }\n",
       "</style>\n",
       "<table border=\"1\" class=\"dataframe\">\n",
       "  <thead>\n",
       "    <tr style=\"text-align: right;\">\n",
       "      <th></th>\n",
       "      <th>adj_close</th>\n",
       "      <th>HL_PCT</th>\n",
       "      <th>PCT_change</th>\n",
       "      <th>adj_volume</th>\n",
       "      <th>label</th>\n",
       "    </tr>\n",
       "  </thead>\n",
       "  <tbody>\n",
       "    <tr>\n",
       "      <th>0</th>\n",
       "      <td>30.018590</td>\n",
       "      <td>13.636364</td>\n",
       "      <td>-3.296703</td>\n",
       "      <td>44739900.0</td>\n",
       "      <td>27.130393</td>\n",
       "    </tr>\n",
       "    <tr>\n",
       "      <th>1</th>\n",
       "      <td>27.548879</td>\n",
       "      <td>6.488361</td>\n",
       "      <td>-5.961807</td>\n",
       "      <td>10897100.0</td>\n",
       "      <td>27.400187</td>\n",
       "    </tr>\n",
       "    <tr>\n",
       "      <th>2</th>\n",
       "      <td>30.018590</td>\n",
       "      <td>0.000000</td>\n",
       "      <td>6.511740</td>\n",
       "      <td>4705200.0</td>\n",
       "      <td>26.956626</td>\n",
       "    </tr>\n",
       "    <tr>\n",
       "      <th>3</th>\n",
       "      <td>27.460188</td>\n",
       "      <td>8.397516</td>\n",
       "      <td>-5.294118</td>\n",
       "      <td>4274400.0</td>\n",
       "      <td>23.380701</td>\n",
       "    </tr>\n",
       "    <tr>\n",
       "      <th>4</th>\n",
       "      <td>28.012803</td>\n",
       "      <td>2.143205</td>\n",
       "      <td>2.317468</td>\n",
       "      <td>3464400.0</td>\n",
       "      <td>22.553025</td>\n",
       "    </tr>\n",
       "    <tr>\n",
       "      <th>...</th>\n",
       "      <td>...</td>\n",
       "      <td>...</td>\n",
       "      <td>...</td>\n",
       "      <td>...</td>\n",
       "      <td>...</td>\n",
       "    </tr>\n",
       "    <tr>\n",
       "      <th>13850377</th>\n",
       "      <td>14.640000</td>\n",
       "      <td>0.717213</td>\n",
       "      <td>0.273973</td>\n",
       "      <td>456800.0</td>\n",
       "      <td>23.950000</td>\n",
       "    </tr>\n",
       "    <tr>\n",
       "      <th>13850378</th>\n",
       "      <td>14.750000</td>\n",
       "      <td>0.000000</td>\n",
       "      <td>0.067843</td>\n",
       "      <td>771200.0</td>\n",
       "      <td>23.350000</td>\n",
       "    </tr>\n",
       "    <tr>\n",
       "      <th>13850379</th>\n",
       "      <td>14.975000</td>\n",
       "      <td>2.003339</td>\n",
       "      <td>1.525424</td>\n",
       "      <td>873200.0</td>\n",
       "      <td>23.550000</td>\n",
       "    </tr>\n",
       "    <tr>\n",
       "      <th>13850380</th>\n",
       "      <td>14.730000</td>\n",
       "      <td>2.647658</td>\n",
       "      <td>-1.438608</td>\n",
       "      <td>488400.0</td>\n",
       "      <td>24.650000</td>\n",
       "    </tr>\n",
       "    <tr>\n",
       "      <th>13850381</th>\n",
       "      <td>14.605000</td>\n",
       "      <td>2.636084</td>\n",
       "      <td>-1.517195</td>\n",
       "      <td>427000.0</td>\n",
       "      <td>23.600000</td>\n",
       "    </tr>\n",
       "  </tbody>\n",
       "</table>\n",
       "<p>13850382 rows × 5 columns</p>\n",
       "</div>"
      ]
     },
     "metadata": {},
     "execution_count": 27
    }
   ],
   "metadata": {}
  },
  {
   "cell_type": "code",
   "execution_count": 28,
   "source": [
    "y = np.array(df[\"label\"])\n",
    "\n",
    "y"
   ],
   "outputs": [
    {
     "output_type": "execute_result",
     "data": {
      "text/plain": [
       "array([27.13039259, 27.40018749, 26.95662638, ..., 23.55      ,\n",
       "       24.65      , 23.6       ])"
      ]
     },
     "metadata": {},
     "execution_count": 28
    }
   ],
   "metadata": {}
  },
  {
   "cell_type": "code",
   "execution_count": 29,
   "source": [
    "y = np.array(df[\"label\"])\n",
    "\n",
    "y\n"
   ],
   "outputs": [
    {
     "output_type": "execute_result",
     "data": {
      "text/plain": [
       "array([27.13039259, 27.40018749, 26.95662638, ..., 23.55      ,\n",
       "       24.65      , 23.6       ])"
      ]
     },
     "metadata": {},
     "execution_count": 29
    }
   ],
   "metadata": {}
  },
  {
   "cell_type": "code",
   "execution_count": 31,
   "source": [
    "# training\n",
    "X_train, X_test, y_train, y_test = train_test_split(\n",
    "    X, y, test_size=0.2\n",
    ")  # 20% of the data\n",
    "\n",
    "\n",
    "\n"
   ],
   "outputs": [],
   "metadata": {}
  },
  {
   "cell_type": "code",
   "execution_count": 32,
   "source": [
    "X_train\n"
   ],
   "outputs": [
    {
     "output_type": "execute_result",
     "data": {
      "text/plain": [
       "array([[-1.48716757e-02, -1.29575324e-03,  5.47947582e-03,\n",
       "        -4.03684372e-02],\n",
       "       [-6.63271859e-03, -3.51735792e-03,  8.94945267e-03,\n",
       "         1.92763122e-01],\n",
       "       [-2.38614846e-02,  3.35130548e-03,  3.13849877e-03,\n",
       "        -1.93457136e-01],\n",
       "       ...,\n",
       "       [-2.14987609e-02, -8.56425277e-04,  4.41615320e-03,\n",
       "         6.49087184e+00],\n",
       "       [-2.00959704e-02, -1.46628154e-03,  7.06528206e-03,\n",
       "        -1.79624861e-01],\n",
       "       [-1.60472866e-02, -9.96729300e-04,  4.67917962e-03,\n",
       "        -1.89655635e-01]])"
      ]
     },
     "metadata": {},
     "execution_count": 32
    }
   ],
   "metadata": {}
  },
  {
   "cell_type": "code",
   "execution_count": 33,
   "source": [
    "X_test"
   ],
   "outputs": [
    {
     "output_type": "execute_result",
     "data": {
      "text/plain": [
       "array([[-2.58283001e-02, -1.57345275e-03,  1.33166453e-02,\n",
       "         5.03144409e-02],\n",
       "       [-1.98907591e-03, -1.86959385e-03,  9.98143112e-03,\n",
       "        -1.42180063e-01],\n",
       "       [-1.68456798e-02, -2.22198816e-04,  3.94433550e-03,\n",
       "        -8.00826487e-02],\n",
       "       ...,\n",
       "       [-2.02431411e-02, -2.02872675e-04,  5.56664727e-03,\n",
       "        -2.07378459e-01],\n",
       "       [-2.52923354e-02,  2.27105895e-03,  2.36424540e-03,\n",
       "        -2.10043806e-01],\n",
       "       [-9.43134812e-03, -3.57335173e-03,  9.41959443e-03,\n",
       "         9.97825247e-01]])"
      ]
     },
     "metadata": {},
     "execution_count": 33
    }
   ],
   "metadata": {}
  },
  {
   "cell_type": "code",
   "execution_count": 34,
   "source": [
    "y_train"
   ],
   "outputs": [
    {
     "output_type": "execute_result",
     "data": {
      "text/plain": [
       "array([ 5.14187187, 13.53113114,  4.12384416, ..., 17.28071293,\n",
       "       17.24950048,  4.54588789])"
      ]
     },
     "metadata": {},
     "execution_count": 34
    }
   ],
   "metadata": {}
  },
  {
   "cell_type": "code",
   "execution_count": 35,
   "source": [
    "y_test\n"
   ],
   "outputs": [
    {
     "output_type": "execute_result",
     "data": {
      "text/plain": [
       "array([ 45.46090467, 360.        , 493.53878309, ...,  50.83496256,\n",
       "         2.99      ,  44.24496773])"
      ]
     },
     "metadata": {},
     "execution_count": 35
    }
   ],
   "metadata": {}
  },
  {
   "cell_type": "code",
   "execution_count": 36,
   "source": [
    "# classifier definition and fit it\n",
    "clf = LinearRegression(n_jobs=-1)  # choice A\n",
    "# clf = svm.SVR() # change algorithm to   # choice B\n",
    "\n",
    "clf"
   ],
   "outputs": [
    {
     "output_type": "execute_result",
     "data": {
      "text/plain": [
       "LinearRegression(n_jobs=-1)"
      ]
     },
     "metadata": {},
     "execution_count": 36
    }
   ],
   "metadata": {}
  },
  {
   "cell_type": "code",
   "execution_count": 37,
   "source": [
    "clf.fit(X_train, y_train)  # train\n",
    "accuracy = clf.score(\n",
    "    X_train, y_train\n",
    ")  # test ( on seperate data, you want to use different data for this to make sure it actually works )\n",
    "\n",
    "\n",
    "accuracy\n"
   ],
   "outputs": [
    {
     "output_type": "execute_result",
     "data": {
      "text/plain": [
       "0.0005596973589790943"
      ]
     },
     "metadata": {},
     "execution_count": 37
    }
   ],
   "metadata": {}
  },
  {
   "cell_type": "code",
   "execution_count": 38,
   "source": [
    "print(f\"accuracy = {accuracy}\\n\")  # 0.000595491194672948 ( not very accurate )\n"
   ],
   "outputs": [
    {
     "output_type": "stream",
     "name": "stdout",
     "text": [
      "accuracy = 0.0005596973589790943\n",
      "\n"
     ]
    }
   ],
   "metadata": {}
  },
  {
   "cell_type": "code",
   "execution_count": 39,
   "source": [
    "forecast_set = clf.predict(X_lately)\n",
    "\n",
    "print(\n",
    "    f\"forecast_set,accuracy,forecast_out  = {forecast_set},{accuracy},{forecast_out}\\n\"\n",
    ")  # 0.000595491194672948 ( not very accurate )\n",
    "\n"
   ],
   "outputs": [
    {
     "output_type": "stream",
     "name": "stdout",
     "text": [
      "forecast_set,accuracy,forecast_out  = [  462362.42352536   680981.08844161   439361.33161246 ...\n",
      " 13499600.67609166  7551540.45292207  6602436.76293474],0.0005596973589790943,1538932\n",
      "\n"
     ]
    }
   ],
   "metadata": {}
  },
  {
   "cell_type": "code",
   "execution_count": 40,
   "source": [
    "forecast_set\n"
   ],
   "outputs": [
    {
     "output_type": "execute_result",
     "data": {
      "text/plain": [
       "array([  462362.42352536,   680981.08844161,   439361.33161246, ...,\n",
       "       13499600.67609166,  7551540.45292207,  6602436.76293474])"
      ]
     },
     "metadata": {},
     "execution_count": 40
    }
   ],
   "metadata": {}
  },
  {
   "cell_type": "code",
   "execution_count": 41,
   "source": [
    "accuracy\n"
   ],
   "outputs": [
    {
     "output_type": "execute_result",
     "data": {
      "text/plain": [
       "0.0005596973589790943"
      ]
     },
     "metadata": {},
     "execution_count": 41
    }
   ],
   "metadata": {}
  },
  {
   "cell_type": "code",
   "execution_count": 42,
   "source": [
    "forecast_out\n"
   ],
   "outputs": [
    {
     "output_type": "execute_result",
     "data": {
      "text/plain": [
       "1538932"
      ]
     },
     "metadata": {},
     "execution_count": 42
    }
   ],
   "metadata": {}
  },
  {
   "cell_type": "code",
   "execution_count": 43,
   "source": [
    "df[\"Forecast\"] = np.nan\n",
    "\n",
    "\n",
    "df"
   ],
   "outputs": [
    {
     "output_type": "execute_result",
     "data": {
      "text/plain": [
       "          adj_close     HL_PCT  PCT_change  adj_volume      label  Forecast\n",
       "0         30.018590  13.636364   -3.296703  44739900.0  27.130393       NaN\n",
       "1         27.548879   6.488361   -5.961807  10897100.0  27.400187       NaN\n",
       "2         30.018590   0.000000    6.511740   4705200.0  26.956626       NaN\n",
       "3         27.460188   8.397516   -5.294118   4274400.0  23.380701       NaN\n",
       "4         28.012803   2.143205    2.317468   3464400.0  22.553025       NaN\n",
       "...             ...        ...         ...         ...        ...       ...\n",
       "13850377  14.640000   0.717213    0.273973    456800.0  23.950000       NaN\n",
       "13850378  14.750000   0.000000    0.067843    771200.0  23.350000       NaN\n",
       "13850379  14.975000   2.003339    1.525424    873200.0  23.550000       NaN\n",
       "13850380  14.730000   2.647658   -1.438608    488400.0  24.650000       NaN\n",
       "13850381  14.605000   2.636084   -1.517195    427000.0  23.600000       NaN\n",
       "\n",
       "[13850382 rows x 6 columns]"
      ],
      "text/html": [
       "<div>\n",
       "<style scoped>\n",
       "    .dataframe tbody tr th:only-of-type {\n",
       "        vertical-align: middle;\n",
       "    }\n",
       "\n",
       "    .dataframe tbody tr th {\n",
       "        vertical-align: top;\n",
       "    }\n",
       "\n",
       "    .dataframe thead th {\n",
       "        text-align: right;\n",
       "    }\n",
       "</style>\n",
       "<table border=\"1\" class=\"dataframe\">\n",
       "  <thead>\n",
       "    <tr style=\"text-align: right;\">\n",
       "      <th></th>\n",
       "      <th>adj_close</th>\n",
       "      <th>HL_PCT</th>\n",
       "      <th>PCT_change</th>\n",
       "      <th>adj_volume</th>\n",
       "      <th>label</th>\n",
       "      <th>Forecast</th>\n",
       "    </tr>\n",
       "  </thead>\n",
       "  <tbody>\n",
       "    <tr>\n",
       "      <th>0</th>\n",
       "      <td>30.018590</td>\n",
       "      <td>13.636364</td>\n",
       "      <td>-3.296703</td>\n",
       "      <td>44739900.0</td>\n",
       "      <td>27.130393</td>\n",
       "      <td>NaN</td>\n",
       "    </tr>\n",
       "    <tr>\n",
       "      <th>1</th>\n",
       "      <td>27.548879</td>\n",
       "      <td>6.488361</td>\n",
       "      <td>-5.961807</td>\n",
       "      <td>10897100.0</td>\n",
       "      <td>27.400187</td>\n",
       "      <td>NaN</td>\n",
       "    </tr>\n",
       "    <tr>\n",
       "      <th>2</th>\n",
       "      <td>30.018590</td>\n",
       "      <td>0.000000</td>\n",
       "      <td>6.511740</td>\n",
       "      <td>4705200.0</td>\n",
       "      <td>26.956626</td>\n",
       "      <td>NaN</td>\n",
       "    </tr>\n",
       "    <tr>\n",
       "      <th>3</th>\n",
       "      <td>27.460188</td>\n",
       "      <td>8.397516</td>\n",
       "      <td>-5.294118</td>\n",
       "      <td>4274400.0</td>\n",
       "      <td>23.380701</td>\n",
       "      <td>NaN</td>\n",
       "    </tr>\n",
       "    <tr>\n",
       "      <th>4</th>\n",
       "      <td>28.012803</td>\n",
       "      <td>2.143205</td>\n",
       "      <td>2.317468</td>\n",
       "      <td>3464400.0</td>\n",
       "      <td>22.553025</td>\n",
       "      <td>NaN</td>\n",
       "    </tr>\n",
       "    <tr>\n",
       "      <th>...</th>\n",
       "      <td>...</td>\n",
       "      <td>...</td>\n",
       "      <td>...</td>\n",
       "      <td>...</td>\n",
       "      <td>...</td>\n",
       "      <td>...</td>\n",
       "    </tr>\n",
       "    <tr>\n",
       "      <th>13850377</th>\n",
       "      <td>14.640000</td>\n",
       "      <td>0.717213</td>\n",
       "      <td>0.273973</td>\n",
       "      <td>456800.0</td>\n",
       "      <td>23.950000</td>\n",
       "      <td>NaN</td>\n",
       "    </tr>\n",
       "    <tr>\n",
       "      <th>13850378</th>\n",
       "      <td>14.750000</td>\n",
       "      <td>0.000000</td>\n",
       "      <td>0.067843</td>\n",
       "      <td>771200.0</td>\n",
       "      <td>23.350000</td>\n",
       "      <td>NaN</td>\n",
       "    </tr>\n",
       "    <tr>\n",
       "      <th>13850379</th>\n",
       "      <td>14.975000</td>\n",
       "      <td>2.003339</td>\n",
       "      <td>1.525424</td>\n",
       "      <td>873200.0</td>\n",
       "      <td>23.550000</td>\n",
       "      <td>NaN</td>\n",
       "    </tr>\n",
       "    <tr>\n",
       "      <th>13850380</th>\n",
       "      <td>14.730000</td>\n",
       "      <td>2.647658</td>\n",
       "      <td>-1.438608</td>\n",
       "      <td>488400.0</td>\n",
       "      <td>24.650000</td>\n",
       "      <td>NaN</td>\n",
       "    </tr>\n",
       "    <tr>\n",
       "      <th>13850381</th>\n",
       "      <td>14.605000</td>\n",
       "      <td>2.636084</td>\n",
       "      <td>-1.517195</td>\n",
       "      <td>427000.0</td>\n",
       "      <td>23.600000</td>\n",
       "      <td>NaN</td>\n",
       "    </tr>\n",
       "  </tbody>\n",
       "</table>\n",
       "<p>13850382 rows × 6 columns</p>\n",
       "</div>"
      ]
     },
     "metadata": {},
     "execution_count": 43
    }
   ],
   "metadata": {}
  },
  {
   "cell_type": "code",
   "execution_count": 44,
   "source": [
    "last_date = df.iloc[-1].name\n",
    "last_unix = last_date.timestamp()\n",
    "one_day = 86400\n",
    "next_unix = last_unix + one_day\n"
   ],
   "outputs": [
    {
     "output_type": "error",
     "ename": "AttributeError",
     "evalue": "'numpy.int64' object has no attribute 'timestamp'",
     "traceback": [
      "\u001b[0;31m---------------------------------------------------------------------------\u001b[0m",
      "\u001b[0;31mAttributeError\u001b[0m                            Traceback (most recent call last)",
      "\u001b[0;32m<ipython-input-44-c42922b82011>\u001b[0m in \u001b[0;36m<module>\u001b[0;34m\u001b[0m\n\u001b[1;32m      1\u001b[0m \u001b[0mlast_date\u001b[0m \u001b[0;34m=\u001b[0m \u001b[0mdf\u001b[0m\u001b[0;34m.\u001b[0m\u001b[0miloc\u001b[0m\u001b[0;34m[\u001b[0m\u001b[0;34m-\u001b[0m\u001b[0;36m1\u001b[0m\u001b[0;34m]\u001b[0m\u001b[0;34m.\u001b[0m\u001b[0mname\u001b[0m\u001b[0;34m\u001b[0m\u001b[0;34m\u001b[0m\u001b[0m\n\u001b[0;32m----> 2\u001b[0;31m \u001b[0mlast_unix\u001b[0m \u001b[0;34m=\u001b[0m \u001b[0mlast_date\u001b[0m\u001b[0;34m.\u001b[0m\u001b[0mtimestamp\u001b[0m\u001b[0;34m(\u001b[0m\u001b[0;34m)\u001b[0m\u001b[0;34m\u001b[0m\u001b[0;34m\u001b[0m\u001b[0m\n\u001b[0m\u001b[1;32m      3\u001b[0m \u001b[0mone_day\u001b[0m \u001b[0;34m=\u001b[0m \u001b[0;36m86400\u001b[0m\u001b[0;34m\u001b[0m\u001b[0;34m\u001b[0m\u001b[0m\n\u001b[1;32m      4\u001b[0m \u001b[0mnext_unix\u001b[0m \u001b[0;34m=\u001b[0m \u001b[0mlast_unix\u001b[0m \u001b[0;34m+\u001b[0m \u001b[0mone_day\u001b[0m\u001b[0;34m\u001b[0m\u001b[0;34m\u001b[0m\u001b[0m\n",
      "\u001b[0;31mAttributeError\u001b[0m: 'numpy.int64' object has no attribute 'timestamp'"
     ]
    }
   ],
   "metadata": {}
  },
  {
   "cell_type": "code",
   "execution_count": null,
   "source": [],
   "outputs": [],
   "metadata": {}
  }
 ],
 "metadata": {
  "orig_nbformat": 4,
  "language_info": {
   "name": "python",
   "version": "3.9.0",
   "mimetype": "text/x-python",
   "codemirror_mode": {
    "name": "ipython",
    "version": 3
   },
   "pygments_lexer": "ipython3",
   "nbconvert_exporter": "python",
   "file_extension": ".py"
  },
  "kernelspec": {
   "name": "python3",
   "display_name": "Python 3.9.0 64-bit ('machine-learning-with-python3': venv)"
  },
  "interpreter": {
   "hash": "41bb2b84498472d74a31c0903bbfeaf13d8f3179cde4d7de450a1b5ca082911b"
  }
 },
 "nbformat": 4,
 "nbformat_minor": 2
}