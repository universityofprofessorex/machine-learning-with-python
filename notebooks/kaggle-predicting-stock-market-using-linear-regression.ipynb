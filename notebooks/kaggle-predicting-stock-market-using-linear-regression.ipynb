{
    "cells": [
        {
            "cell_type": "code",
            "execution_count": 2,
            "source": [
                "# SOURCE: https://www.kaggle.com/dkmostafa/predicting-stock-market-using-linear-regression\n",
                "# This Python 3 environment comes with many helpful analytics libraries installed\n",
                "# It is defined by the kaggle/python docker image: https://github.com/kaggle/docker-python\n",
                "# For example, here's several helpful packages to load in\n",
                "\n",
                "import os\n",
                "import pathlib\n",
                "import time\n",
                "\n",
                "from typing import Any, List, Sequence, Union\n",
                "\n",
                "import numpy as np  # linear algebra\n",
                "import pandas as pd  # data processing, CSV file I/O (e.g. pd.read_csv)\n",
                "from rich import print as rich_print\n",
                "from rich.console import Console\n",
                "from rich.table import Table\n",
                "from sklearn import linear_model, preprocessing, svm\n",
                "from sklearn.linear_model import LinearRegression\n",
                "from sklearn.model_selection import train_test_split\n",
                "\n",
                "console = Console()\n",
                "\n",
                "# Input data files are available in the \"../input/\" directory.\n",
                "# For example, running this (by clicking run or pressing Shift+Enter) will list the files in the input directory\n",
                "\n",
                "# https://stackoverflow.com/questions/39125532/file-does-not-exist-in-jupyter-notebook\n",
                "# /Users/<USER>/dev/universityofprofessorex/machine-learning-with-python\n",
                "current_folder = globals()['_dh'][0]\n",
                "\n",
                "HERE = os.path.abspath('')\n",
                "\n",
                "_dir = pathlib.Path(HERE).resolve()\n",
                "\n",
                "rich_print(_dir.parent)\n",
                "rich_print(current_folder)\n",
                "\n",
                "parent_dir = _dir.parent\n"
            ],
            "outputs": [
                {
                    "output_type": "display_data",
                    "data": {
                        "text/plain": [
                            "\u001b[35m/Users/malcolm/dev/universityofprofessorex/\u001b[0m\u001b[95mmachine-learning-with-python\u001b[0m\n"
                        ],
                        "text/html": [
                            "<pre style=\"white-space:pre;overflow-x:auto;line-height:normal;font-family:Menlo,'DejaVu Sans Mono',consolas,'Courier New',monospace\"><span style=\"color: #800080; text-decoration-color: #800080\">/Users/malcolm/dev/universityofprofessorex/</span><span style=\"color: #ff00ff; text-decoration-color: #ff00ff\">machine-learning-with-python</span>\n",
                            "</pre>\n"
                        ]
                    },
                    "metadata": {}
                },
                {
                    "output_type": "display_data",
                    "data": {
                        "text/plain": [
                            "\u001b[35m/Users/malcolm/dev/universityofprofessorex/machine-learning-with-python/\u001b[0m\u001b[95mnotebooks\u001b[0m\n"
                        ],
                        "text/html": [
                            "<pre style=\"white-space:pre;overflow-x:auto;line-height:normal;font-family:Menlo,'DejaVu Sans Mono',consolas,'Courier New',monospace\"><span style=\"color: #800080; text-decoration-color: #800080\">/Users/malcolm/dev/universityofprofessorex/machine-learning-with-python/</span><span style=\"color: #ff00ff; text-decoration-color: #ff00ff\">notebooks</span>\n",
                            "</pre>\n"
                        ]
                    },
                    "metadata": {}
                }
            ],
            "metadata": {}
        },
        {
            "cell_type": "code",
            "execution_count": 3,
            "source": [
                "input_dir = f\"{parent_dir}/data/kaggle/nyse\"\n",
                "\n",
                "console.log(os.listdir(input_dir))\n"
            ],
            "outputs": [
                {
                    "output_type": "display_data",
                    "data": {
                        "text/plain": [
                            "\u001b[2;36m[22:15:42]\u001b[0m\u001b[2;36m \u001b[0m\u001b[1m[\u001b[0m                                                 \u001b[2m<ipython-input-3-2cd56b68f65b>\u001b[0m\u001b[2m:3\u001b[0m\n",
                            "               \u001b[32m'prices-split-adjusted.csv'\u001b[0m,                                                  \n",
                            "               \u001b[32m'prices.csv.zip'\u001b[0m,                                                             \n",
                            "               \u001b[32m'fundamentals.csv'\u001b[0m,                                                           \n",
                            "               \u001b[32m'prices-split-adjusted.csv.zip'\u001b[0m,                                              \n",
                            "               \u001b[32m'.gitkeep'\u001b[0m,                                                                   \n",
                            "               \u001b[32m'prices.csv'\u001b[0m,                                                                 \n",
                            "               \u001b[32m'fundamentals.csv.zip'\u001b[0m,                                                       \n",
                            "               \u001b[32m'securities.csv'\u001b[0m                                                              \n",
                            "           \u001b[1m]\u001b[0m                                                                                 \n"
                        ],
                        "text/html": [
                            "<pre style=\"white-space:pre;overflow-x:auto;line-height:normal;font-family:Menlo,'DejaVu Sans Mono',consolas,'Courier New',monospace\"><span style=\"color: #7fbfbf; text-decoration-color: #7fbfbf\">[22:15:42] </span><span style=\"font-weight: bold\">[</span>                                                 <span style=\"color: #7f7f7f; text-decoration-color: #7f7f7f\">&lt;ipython-input-3-2cd56b68f65b&gt;:3</span>\n",
                            "               <span style=\"color: #008000; text-decoration-color: #008000\">'prices-split-adjusted.csv'</span>,                                                  \n",
                            "               <span style=\"color: #008000; text-decoration-color: #008000\">'prices.csv.zip'</span>,                                                             \n",
                            "               <span style=\"color: #008000; text-decoration-color: #008000\">'fundamentals.csv'</span>,                                                           \n",
                            "               <span style=\"color: #008000; text-decoration-color: #008000\">'prices-split-adjusted.csv.zip'</span>,                                              \n",
                            "               <span style=\"color: #008000; text-decoration-color: #008000\">'.gitkeep'</span>,                                                                   \n",
                            "               <span style=\"color: #008000; text-decoration-color: #008000\">'prices.csv'</span>,                                                                 \n",
                            "               <span style=\"color: #008000; text-decoration-color: #008000\">'fundamentals.csv.zip'</span>,                                                       \n",
                            "               <span style=\"color: #008000; text-decoration-color: #008000\">'securities.csv'</span>                                                              \n",
                            "           <span style=\"font-weight: bold\">]</span>                                                                                 \n",
                            "</pre>\n"
                        ]
                    },
                    "metadata": {}
                }
            ],
            "metadata": {}
        },
        {
            "cell_type": "code",
            "execution_count": null,
            "source": [],
            "outputs": [],
            "metadata": {}
        }
    ],
    "metadata": {
        "orig_nbformat": 4,
        "language_info": {
            "name": "python",
            "version": "3.9.0",
            "mimetype": "text/x-python",
            "codemirror_mode": {
                "name": "ipython",
                "version": 3
            },
            "pygments_lexer": "ipython3",
            "nbconvert_exporter": "python",
            "file_extension": ".py"
        },
        "kernelspec": {
            "name": "python3",
            "display_name": "Python 3.9.0 64-bit ('machine-learning-with-python3': venv)"
        },
        "interpreter": {
            "hash": "41bb2b84498472d74a31c0903bbfeaf13d8f3179cde4d7de450a1b5ca082911b"
        }
    },
    "nbformat": 4,
    "nbformat_minor": 2
}